{
 "cells": [
  {
   "cell_type": "markdown",
   "metadata": {},
   "source": [
    "# Elegant SciPy Raffle!\n",
    "\n",
    "## To enter, email `raffle@elegant-scipy.org` now!"
   ]
  },
  {
   "cell_type": "markdown",
   "metadata": {},
   "source": [
    "### Fetch & index mail mail"
   ]
  },
  {
   "cell_type": "code",
   "execution_count": null,
   "metadata": {},
   "outputs": [],
   "source": [
    "!offlineimap"
   ]
  },
  {
   "cell_type": "markdown",
   "metadata": {},
   "source": [
    "### Search for emails to `raffle@elegant-scipy.org` and dump to file"
   ]
  },
  {
   "cell_type": "code",
   "execution_count": null,
   "metadata": {},
   "outputs": [],
   "source": [
    "!mu find --format=sexp to:raffle@elegant-scipy.org > _emails.txt"
   ]
  },
  {
   "cell_type": "markdown",
   "metadata": {},
   "source": [
    "### Parse out email addresses"
   ]
  },
  {
   "cell_type": "code",
   "execution_count": null,
   "metadata": {},
   "outputs": [],
   "source": [
    "f = open('_emails.txt', 'r')\n",
    "email_metadata = f.readlines()\n",
    "\n",
    "emails_from = [line.strip() for line in email_metadata if ':from' in line]\n",
    "emails_from = [line.replace(':from', '').strip() for line in emails_from]"
   ]
  },
  {
   "cell_type": "markdown",
   "metadata": {},
   "source": [
    "### Construct list `[(name, email), (name, email), ...]`"
   ]
  },
  {
   "cell_type": "code",
   "execution_count": null,
   "metadata": {},
   "outputs": [],
   "source": [
    "import re\n",
    "\n",
    "expr = '^\\(\\((.*) . \"(.*)\"\\)\\)'\n",
    "\n",
    "do_not_let_win = ('stefanv@berkeley.edu', 'jni@fastmail.com')\n",
    "\n",
    "people = [re.match(expr, from_field) for from_field in emails_from]\n",
    "people = [p.groups() for p in people]\n",
    "people = [(p[0].replace('\"', ''), p[1]) for p in people]\n",
    "people = [p for p in people if not (p[1] in do_not_let_win)]"
   ]
  },
  {
   "cell_type": "markdown",
   "metadata": {},
   "source": [
    "### Remove duplicate entries"
   ]
  },
  {
   "cell_type": "code",
   "execution_count": null,
   "metadata": {},
   "outputs": [],
   "source": [
    "import numpy as np\n",
    "\n",
    "people = np.array(people)\n",
    "_, emails = zip(*people)\n",
    "\n",
    "_, idx = np.unique(emails, return_index=True)\n",
    "people_unique = people[idx]"
   ]
  },
  {
   "cell_type": "markdown",
   "metadata": {},
   "source": [
    "### OK, let's run the raffler"
   ]
  },
  {
   "cell_type": "code",
   "execution_count": null,
   "metadata": {},
   "outputs": [],
   "source": [
    "import time\n",
    "import random\n",
    "import sys\n",
    "\n",
    "\n",
    "def typewrite(text, delay=0.08, after_delay=0.3):\n",
    "    for ch in text:\n",
    "        print(ch, end='')\n",
    "        time.sleep(random.random() * delay)\n",
    "        sys.stdout.flush()\n",
    "\n",
    "    print('')\n",
    "    time.sleep(after_delay)\n",
    "\n",
    "\n",
    "typewrite('\\n\\nWelcome to the SciPy 2018 Elegant SciPy raffle!\\n')\n",
    "typewrite('Are you ready?\\n')\n",
    "typewrite('Here we go.\\n')\n",
    "typewrite(f'It looks like we received... {len(people_unique)} entries!\\n')\n",
    "typewrite('And our winners are:\\n\\n')\n",
    "\n",
    "rng = np.random.RandomState(20180713)\n",
    "idx = np.arange(len(people_unique))\n",
    "rng.shuffle(idx)\n",
    "\n",
    "initial_batch = 25\n",
    "\n",
    "for n, (name, email) in enumerate(people_unique[idx]):\n",
    "    if name == 'nil':\n",
    "        name = 'Anonymous'\n",
    "    ename, domain = email.split('@')\n",
    "    email = ename[:3] + '...' + domain\n",
    "    \n",
    "    typewrite(f'\\n{n + 1} {name} ({email})')\n",
    "    \n",
    "    if n >= initial_batch - 1:\n",
    "        input('moar?! ')"
   ]
  }
 ],
 "metadata": {
  "kernelspec": {
   "display_name": "Python 3",
   "language": "python",
   "name": "python3"
  },
  "language_info": {
   "codemirror_mode": {
    "name": "ipython",
    "version": 3
   },
   "file_extension": ".py",
   "mimetype": "text/x-python",
   "name": "python",
   "nbconvert_exporter": "python",
   "pygments_lexer": "ipython3",
   "version": "3.6.6rc1"
  }
 },
 "nbformat": 4,
 "nbformat_minor": 2
}
